{
 "cells": [
  {
   "cell_type": "code",
   "execution_count": 1,
   "metadata": {},
   "outputs": [],
   "source": [
    "# Project 02 (Template)"
   ]
  },
  {
   "cell_type": "code",
   "execution_count": 2,
   "metadata": {},
   "outputs": [],
   "source": [
    "# load libraries\n",
    "import pandas as pd\n",
    "import seaborn as sns\n",
    "import numpy as np\n",
    "import matplotlib.pyplot as plt\n",
    "from sklearn.model_selection import train_test_split,cross_val_score,cross_val_predict,KFold\n",
    "from sklearn.preprocessing import StandardScaler\n",
    "from sklearn.linear_model import LinearRegression,Lasso,Ridge\n",
    "from sklearn.neighbors import KNeighborsClassifier\n",
    "from sklearn.tree import DecisionTreeClassifier\n",
    "from sklearn.ensemble import RandomForestClassifier\n",
    "from sklearn.naive_bayes import GaussianNB\n",
    "from sklearn.cluster import KMeans, DBSCAN, AgglomerativeClustering\n",
    "from scipy.cluster.hierarchy import linkage, fcluster\n",
    "from sklearn import metrics\n",
    "import warnings\n",
    "warnings.filterwarnings('ignore')"
   ]
  },
  {
   "cell_type": "code",
   "execution_count": 3,
   "metadata": {},
   "outputs": [],
   "source": [
    "# read data\n",
    "data_train = pd.read_csv('Final.csv')\n",
    "data_train.\n",
    "data_test = pd.read_csv('demographics_test.csv')\n",
    "output = data_test[['County','State']]"
   ]
  },
  {
   "cell_type": "code",
   "execution_count": 4,
   "metadata": {},
   "outputs": [
    {
     "name": "stdout",
     "output_type": "stream",
     "text": [
      "[1691, 423]\n",
      "[1691, 423]\n",
      "[1691, 423]\n",
      "[1691, 423]\n",
      "[1692, 422]\n"
     ]
    }
   ],
   "source": [
    "folds = KFold(n_splits= 5,shuffle=False,random_state=0)\n",
    "for train_index, test_index in folds.split(data_train):\n",
    "    print([train_index.shape[0], test_index.shape[0]])\n",
    "test_len = test_index.shape[0]"
   ]
  },
  {
   "cell_type": "code",
   "execution_count": 5,
   "metadata": {},
   "outputs": [],
   "source": [
    "# Change to input test data\n",
    "x_data = data_train\n",
    "y_data_demo = data_train['Democratic']\n",
    "y_data_repub = data_train['Republic']"
   ]
  },
  {
   "cell_type": "markdown",
   "metadata": {},
   "source": [
    "# Democratic Votes"
   ]
  },
  {
   "cell_type": "markdown",
   "metadata": {},
   "source": [
    "### Ques 2: Scaling the data"
   ]
  },
  {
   "cell_type": "code",
   "execution_count": 6,
   "metadata": {},
   "outputs": [],
   "source": [
    "scaler = StandardScaler()\n",
    "x_data_scaled = scaler.fit_transform(x_data[\"2014 Population\"].values.reshape(-1,1))"
   ]
  },
  {
   "cell_type": "markdown",
   "metadata": {},
   "source": [
    "### Ques 3: Linear Regression"
   ]
  },
  {
   "cell_type": "code",
   "execution_count": 7,
   "metadata": {},
   "outputs": [
    {
     "name": "stdout",
     "output_type": "stream",
     "text": [
      "R squared Value\n",
      "0.7692627889626266\n"
     ]
    }
   ],
   "source": [
    "# Cross validation (Democratic Votes)\n",
    "model = LinearRegression()\n",
    "scores =  cross_val_score(model,X=x_data_scaled,y=y_data_demo,cv=folds)\n",
    "print('R squared Value')\n",
    "print(scores.mean()) "
   ]
  },
  {
   "cell_type": "code",
   "execution_count": 8,
   "metadata": {},
   "outputs": [
    {
     "data": {
      "image/png": "[encoded data removed]",
      "text/plain": [
       "<Figure size 432x288 with 1 Axes>"
      ]
     },
     "metadata": {},
     "output_type": "display_data"
    }
   ],
   "source": [
    "ax = sns.regplot(data_train[\"2014 Population\"],data_train['Democratic'])"
   ]
  },
  {
   "cell_type": "markdown",
   "metadata": {},
   "source": [
    "### Ques4: Multiple Regression"
   ]
  },
  {
   "cell_type": "code",
   "execution_count": 9,
   "metadata": {},
   "outputs": [],
   "source": [
    "mul_x_data_scaled = scaler.fit_transform(x_data[['2014 Population', 'Percent Under 18 Years', 'Percent Female', 'Percent White', 'Veterans']])"
   ]
  },
  {
   "cell_type": "code",
   "execution_count": 10,
   "metadata": {},
   "outputs": [
    {
     "name": "stdout",
     "output_type": "stream",
     "text": [
      "Test R2 \t   Test Adj. R2\n",
      "0.77843567016485 0.7757726373543314\n"
     ]
    }
   ],
   "source": [
    "model = LinearRegression()\n",
    "r_squared_scores =  cross_val_score(model,X=mul_x_data_scaled,y=y_data_demo,cv=folds)\n",
    "adj_r_squared_score = 1-(((1-r_squared_scores.mean())*(test_len-1))/(test_len-mul_x_data_scaled.shape[1]-1))\n",
    "print('Test R2 \\t   Test Adj. R2')\n",
    "print(r_squared_scores.mean(),adj_r_squared_score)"
   ]
  },
  {
   "cell_type": "code",
   "execution_count": 11,
   "metadata": {},
   "outputs": [],
   "source": [
    "# Test data Output file Democratic votes\n",
    "mul_test_data_scaled = scaler.transform(data_test[['2014 Population', 'Percent Under 18 Years', 'Percent Female', 'Percent White', 'Veterans']])\n",
    "model = LinearRegression().fit(mul_x_data_scaled,y_data_demo)\n",
    "output['Democratic'] = np.absolute(np.round((model.predict(mul_test_data_scaled))))"
   ]
  },
  {
   "cell_type": "code",
   "execution_count": 12,
   "metadata": {},
   "outputs": [
    {
     "data": {
      "text/html": [
       "<div>\n",
       "<style scoped>\n",
       "    .dataframe tbody tr th:only-of-type {\n",
       "        vertical-align: middle;\n",
       "    }\n",
       "\n",
       "    .dataframe tbody tr th {\n",
       "        vertical-align: top;\n",
       "    }\n",
       "\n",
       "    .dataframe thead th {\n",
       "        text-align: right;\n",
       "    }\n",
       "</style>\n",
       "<table border=\"1\" class=\"dataframe\">\n",
       "  <thead>\n",
       "    <tr style=\"text-align: right;\">\n",
       "      <th></th>\n",
       "      <th>County</th>\n",
       "      <th>State</th>\n",
       "      <th>Democratic</th>\n",
       "    </tr>\n",
       "  </thead>\n",
       "  <tbody>\n",
       "    <tr>\n",
       "      <th>0</th>\n",
       "      <td>Fremont</td>\n",
       "      <td>ID</td>\n",
       "      <td>3790.0</td>\n",
       "    </tr>\n",
       "    <tr>\n",
       "      <th>1</th>\n",
       "      <td>Love</td>\n",
       "      <td>OK</td>\n",
       "      <td>299.0</td>\n",
       "    </tr>\n",
       "    <tr>\n",
       "      <th>2</th>\n",
       "      <td>Fayette</td>\n",
       "      <td>PA</td>\n",
       "      <td>10558.0</td>\n",
       "    </tr>\n",
       "    <tr>\n",
       "      <th>3</th>\n",
       "      <td>Dent</td>\n",
       "      <td>MO</td>\n",
       "      <td>407.0</td>\n",
       "    </tr>\n",
       "    <tr>\n",
       "      <th>4</th>\n",
       "      <td>Monroe</td>\n",
       "      <td>MI</td>\n",
       "      <td>10791.0</td>\n",
       "    </tr>\n",
       "  </tbody>\n",
       "</table>\n",
       "</div>"
      ],
      "text/plain": [
       "    County State  Democratic\n",
       "0  Fremont    ID      3790.0\n",
       "1     Love    OK       299.0\n",
       "2  Fayette    PA     10558.0\n",
       "3     Dent    MO       407.0\n",
       "4   Monroe    MI     10791.0"
      ]
     },
     "execution_count": 12,
     "metadata": {},
     "output_type": "execute_result"
    }
   ],
   "source": [
    "output.head()"
   ]
  },
  {
   "cell_type": "markdown",
   "metadata": {},
   "source": [
    "# Republic Votes"
   ]
  },
  {
   "cell_type": "markdown",
   "metadata": {},
   "source": [
    "### Ques 5: Linear Regression"
   ]
  },
  {
   "cell_type": "code",
   "execution_count": 13,
   "metadata": {},
   "outputs": [],
   "source": [
    "scaler = StandardScaler()\n",
    "x_data_scaled = scaler.fit_transform(x_data[\"Veterans\"].values.reshape(-1,1))"
   ]
  },
  {
   "cell_type": "code",
   "execution_count": 14,
   "metadata": {},
   "outputs": [
    {
     "name": "stdout",
     "output_type": "stream",
     "text": [
      "R squared Value\n",
      "0.688409212246721\n"
     ]
    }
   ],
   "source": [
    "# Cross Validation Method (Republican Votes)\n",
    "model = LinearRegression()\n",
    "scores =  cross_val_score(model,X=x_data_scaled,y=y_data_repub,cv=folds)\n",
    "print('R squared Value')\n",
    "print(scores.mean()) "
   ]
  },
  {
   "cell_type": "code",
   "execution_count": 15,
   "metadata": {
    "scrolled": true
   },
   "outputs": [
    {
     "data": {
      "image/png": "[encoded data removed]",
      "text/plain": [
       "<Figure size 432x288 with 1 Axes>"
      ]
     },
     "metadata": {},
     "output_type": "display_data"
    }
   ],
   "source": [
    "ax = sns.regplot(data_train[\"Veterans\"],data_train['Republic'])"
   ]
  },
  {
   "cell_type": "markdown",
   "metadata": {},
   "source": [
    "### Ques 6: Multiple Regression"
   ]
  },
  {
   "cell_type": "code",
   "execution_count": 16,
   "metadata": {},
   "outputs": [],
   "source": [
    "#  Model (Republic Votes)\n",
    "mul_x_data_scaled = scaler.fit_transform(x_data[['Percent Female', 'Veterans','Percent Two or More Races',\"Percent Bachelor's Degree or Higher\",'Percent Under 18 Years'\n",
    "]])"
   ]
  },
  {
   "cell_type": "code",
   "execution_count": 17,
   "metadata": {},
   "outputs": [
    {
     "name": "stdout",
     "output_type": "stream",
     "text": [
      "Test R2 \t   Test Adj. R2\n",
      "0.706754547246586 0.7032299624779152\n"
     ]
    }
   ],
   "source": [
    "model = LinearRegression()\n",
    "r_squared_scores =  cross_val_score(model,X=mul_x_data_scaled,y=y_data_repub,cv=folds)\n",
    "adj_r_squared_score = 1-(((1-r_squared_scores.mean())*(test_len-1))/(test_len-mul_x_data_scaled.shape[1]-1))\n",
    "print('Test R2 \\t   Test Adj. R2')\n",
    "print(r_squared_scores.mean(),adj_r_squared_score)"
   ]
  },
  {
   "cell_type": "code",
   "execution_count": 18,
   "metadata": {},
   "outputs": [],
   "source": [
    "# Test data Output file Republican Votes\n",
    "mul_test_data_scaled = scaler.transform(data_test[['Percent Female', 'Veterans','Percent Two or More Races',\"Percent Bachelor's Degree or Higher\",'Percent Under 18 Years']])\n",
    "model = LinearRegression().fit(mul_x_data_scaled,y_data_demo)\n",
    "output['Republic'] = np.absolute(np.round((model.predict(mul_test_data_scaled))))"
   ]
  },
  {
   "cell_type": "code",
   "execution_count": 19,
   "metadata": {},
   "outputs": [
    {
     "data": {
      "text/html": [
       "<div>\n",
       "<style scoped>\n",
       "    .dataframe tbody tr th:only-of-type {\n",
       "        vertical-align: middle;\n",
       "    }\n",
       "\n",
       "    .dataframe tbody tr th {\n",
       "        vertical-align: top;\n",
       "    }\n",
       "\n",
       "    .dataframe thead th {\n",
       "        text-align: right;\n",
       "    }\n",
       "</style>\n",
       "<table border=\"1\" class=\"dataframe\">\n",
       "  <thead>\n",
       "    <tr style=\"text-align: right;\">\n",
       "      <th></th>\n",
       "      <th>County</th>\n",
       "      <th>State</th>\n",
       "      <th>Democratic</th>\n",
       "      <th>Republic</th>\n",
       "    </tr>\n",
       "  </thead>\n",
       "  <tbody>\n",
       "    <tr>\n",
       "      <th>0</th>\n",
       "      <td>Fremont</td>\n",
       "      <td>ID</td>\n",
       "      <td>3790.0</td>\n",
       "      <td>1465.0</td>\n",
       "    </tr>\n",
       "    <tr>\n",
       "      <th>1</th>\n",
       "      <td>Love</td>\n",
       "      <td>OK</td>\n",
       "      <td>299.0</td>\n",
       "      <td>6225.0</td>\n",
       "    </tr>\n",
       "    <tr>\n",
       "      <th>2</th>\n",
       "      <td>Fayette</td>\n",
       "      <td>PA</td>\n",
       "      <td>10558.0</td>\n",
       "      <td>16929.0</td>\n",
       "    </tr>\n",
       "    <tr>\n",
       "      <th>3</th>\n",
       "      <td>Dent</td>\n",
       "      <td>MO</td>\n",
       "      <td>407.0</td>\n",
       "      <td>452.0</td>\n",
       "    </tr>\n",
       "    <tr>\n",
       "      <th>4</th>\n",
       "      <td>Monroe</td>\n",
       "      <td>MI</td>\n",
       "      <td>10791.0</td>\n",
       "      <td>15513.0</td>\n",
       "    </tr>\n",
       "  </tbody>\n",
       "</table>\n",
       "</div>"
      ],
      "text/plain": [
       "    County State  Democratic  Republic\n",
       "0  Fremont    ID      3790.0    1465.0\n",
       "1     Love    OK       299.0    6225.0\n",
       "2  Fayette    PA     10558.0   16929.0\n",
       "3     Dent    MO       407.0     452.0\n",
       "4   Monroe    MI     10791.0   15513.0"
      ]
     },
     "execution_count": 19,
     "metadata": {},
     "output_type": "execute_result"
    }
   ],
   "source": [
    "output.head()"
   ]
  },
  {
   "cell_type": "markdown",
   "metadata": {},
   "source": [
    "## Ques 7 (Democratic Vs Republican)"
   ]
  },
  {
   "cell_type": "code",
   "execution_count": 20,
   "metadata": {},
   "outputs": [],
   "source": [
    "demograph_train = data_train[list(data_train.columns.values[49:-3])]\n",
    "target_county = data_train['Party']"
   ]
  },
  {
   "cell_type": "markdown",
   "metadata": {},
   "source": [
    "### KNN"
   ]
  },
  {
   "cell_type": "code",
   "execution_count": 21,
   "metadata": {},
   "outputs": [],
   "source": [
    "# Party Classification (KNN)\n",
    "scaled_demograph_train = scaler.fit_transform(demograph_train[['2014 Population', 'Population Percent Change',\n",
    "        'Percent Female', 'Percent White',  \n",
    "       'Percent American Indian and Alaska Native', 'Percent Asian',\n",
    "       'Percent Native Hawaiian and Other Pacific Islander',\n",
    "       'Percent Hispanic or Latino',\n",
    "       'Percent White, not Hispanic or Latino',\n",
    "       'Percent Foreign Born', 'Percent High School or Higher',\n",
    "       \"Percent Bachelor's Degree or Higher\",\n",
    "       'Percent Housing Units in Multi-Unit Structures'          \n",
    "       ]])"
   ]
  },
  {
   "cell_type": "code",
   "execution_count": 22,
   "metadata": {},
   "outputs": [],
   "source": [
    "x_train,x_test,y_train,y_test = train_test_split(scaled_demograph_train,target_county,test_size = 0.30,random_state = 0)"
   ]
  },
  {
   "cell_type": "code",
   "execution_count": 23,
   "metadata": {},
   "outputs": [
    {
     "name": "stdout",
     "output_type": "stream",
     "text": [
      "[0.81081081 0.77364865 0.7972973  0.77027027 0.7559322 ]\n",
      "0.7815918460833715\n"
     ]
    }
   ],
   "source": [
    "#Cross val scores\n",
    "scores = cross_val_score(KNeighborsClassifier(n_neighbors=5),x_train,y_train,cv=folds)\n",
    "print(scores)\n",
    "print(scores.mean())"
   ]
  },
  {
   "cell_type": "markdown",
   "metadata": {},
   "source": [
    "#### Evaluation Metrics KNN"
   ]
  },
  {
   "cell_type": "code",
   "execution_count": 24,
   "metadata": {},
   "outputs": [
    {
     "name": "stdout",
     "output_type": "stream",
     "text": [
      "[0.8204724409448819, 0.7380952380952381, 0.5344827586206896, 0.62]\n"
     ]
    }
   ],
   "source": [
    "# Test Set Evaluation Metrics\n",
    "model = KNeighborsClassifier(n_neighbors=5).fit(x_train,y_train)\n",
    "y_pred = model.predict(x_test)\n",
    "accuracy = metrics.accuracy_score(y_test,y_pred)\n",
    "precision = metrics.precision_score(y_test,y_pred)\n",
    "recall = metrics.recall_score(y_test,y_pred)\n",
    "F1_score = metrics.f1_score(y_test,y_pred)\n",
    "print([accuracy, precision, recall, F1_score])"
   ]
  },
  {
   "cell_type": "markdown",
   "metadata": {},
   "source": [
    "### Classification of Party of test data using KNN Model"
   ]
  },
  {
   "cell_type": "code",
   "execution_count": 25,
   "metadata": {},
   "outputs": [],
   "source": [
    "scaled_test_data = scaler.transform(data_test[['2014 Population', 'Population Percent Change',\n",
    "        'Percent Female', 'Percent White',  \n",
    "       'Percent American Indian and Alaska Native', 'Percent Asian',\n",
    "       'Percent Native Hawaiian and Other Pacific Islander',\n",
    "       'Percent Hispanic or Latino',\n",
    "       'Percent White, not Hispanic or Latino',\n",
    "       'Percent Foreign Born', 'Percent High School or Higher',\n",
    "       \"Percent Bachelor's Degree or Higher\",\n",
    "       'Percent Housing Units in Multi-Unit Structures'  ]])\n",
    "model = KNeighborsClassifier(n_neighbors=5).fit(scaled_demograph_train,target_county)\n",
    "y_pred = model.predict(scaled_test_data)\n",
    "output['Party'] = y_pred"
   ]
  },
  {
   "cell_type": "markdown",
   "metadata": {},
   "source": [
    "#### Final Output Head"
   ]
  },
  {
   "cell_type": "code",
   "execution_count": 26,
   "metadata": {},
   "outputs": [
    {
     "data": {
      "text/html": [
       "<div>\n",
       "<style scoped>\n",
       "    .dataframe tbody tr th:only-of-type {\n",
       "        vertical-align: middle;\n",
       "    }\n",
       "\n",
       "    .dataframe tbody tr th {\n",
       "        vertical-align: top;\n",
       "    }\n",
       "\n",
       "    .dataframe thead th {\n",
       "        text-align: right;\n",
       "    }\n",
       "</style>\n",
       "<table border=\"1\" class=\"dataframe\">\n",
       "  <thead>\n",
       "    <tr style=\"text-align: right;\">\n",
       "      <th></th>\n",
       "      <th>County</th>\n",
       "      <th>State</th>\n",
       "      <th>Democratic</th>\n",
       "      <th>Republic</th>\n",
       "      <th>Party</th>\n",
       "    </tr>\n",
       "  </thead>\n",
       "  <tbody>\n",
       "    <tr>\n",
       "      <th>0</th>\n",
       "      <td>Fremont</td>\n",
       "      <td>ID</td>\n",
       "      <td>3790.0</td>\n",
       "      <td>1465.0</td>\n",
       "      <td>0</td>\n",
       "    </tr>\n",
       "    <tr>\n",
       "      <th>1</th>\n",
       "      <td>Love</td>\n",
       "      <td>OK</td>\n",
       "      <td>299.0</td>\n",
       "      <td>6225.0</td>\n",
       "      <td>0</td>\n",
       "    </tr>\n",
       "    <tr>\n",
       "      <th>2</th>\n",
       "      <td>Fayette</td>\n",
       "      <td>PA</td>\n",
       "      <td>10558.0</td>\n",
       "      <td>16929.0</td>\n",
       "      <td>0</td>\n",
       "    </tr>\n",
       "    <tr>\n",
       "      <th>3</th>\n",
       "      <td>Dent</td>\n",
       "      <td>MO</td>\n",
       "      <td>407.0</td>\n",
       "      <td>452.0</td>\n",
       "      <td>0</td>\n",
       "    </tr>\n",
       "    <tr>\n",
       "      <th>4</th>\n",
       "      <td>Monroe</td>\n",
       "      <td>MI</td>\n",
       "      <td>10791.0</td>\n",
       "      <td>15513.0</td>\n",
       "      <td>0</td>\n",
       "    </tr>\n",
       "  </tbody>\n",
       "</table>\n",
       "</div>"
      ],
      "text/plain": [
       "    County State  Democratic  Republic  Party\n",
       "0  Fremont    ID      3790.0    1465.0      0\n",
       "1     Love    OK       299.0    6225.0      0\n",
       "2  Fayette    PA     10558.0   16929.0      0\n",
       "3     Dent    MO       407.0     452.0      0\n",
       "4   Monroe    MI     10791.0   15513.0      0"
      ]
     },
     "execution_count": 26,
     "metadata": {},
     "output_type": "execute_result"
    }
   ],
   "source": [
    "output.head()"
   ]
  },
  {
   "cell_type": "markdown",
   "metadata": {},
   "source": [
    "### Decision Tree"
   ]
  },
  {
   "cell_type": "code",
   "execution_count": 27,
   "metadata": {},
   "outputs": [],
   "source": [
    "# Party Classification (Decision Tree)\n",
    "scaled_demograph_train = scaler.fit_transform(demograph_train[['2014 Population', '2010 Population', 'Population Percent Change',\n",
    "       'Percent Under 5 Years',\n",
    "       'Percent 65 and Older',\n",
    "       'Percent Black or African American',\n",
    "       'Percent American Indian and Alaska Native', 'Percent Asian',\n",
    "       'Percent Two or More Races', \n",
    "       'Percent White, not Hispanic or Latino', 'Veterans',\n",
    "       'Percent Foreign Born',\n",
    "        'Housing Units',\n",
    "       'Percent Housing Units in Multi-Unit Structures',\n",
    "       'Homeownership Rate', \n",
    "        'Households', 'Persons per Household',\n",
    "       'Percent Living in Same House +1 Years',\n",
    "        'Median Household Income',\n",
    "       'Per Capita Income', 'Percent Below Poverty Level',\n",
    "       'Accommodation and Food Services Sales',\n",
    "       'Land Area']])"
   ]
  },
  {
   "cell_type": "code",
   "execution_count": 28,
   "metadata": {},
   "outputs": [],
   "source": [
    "x_train,x_test,y_train,y_test = train_test_split(scaled_demograph_train,target_county,test_size = 0.30,random_state = 0)"
   ]
  },
  {
   "cell_type": "code",
   "execution_count": 29,
   "metadata": {},
   "outputs": [
    {
     "name": "stdout",
     "output_type": "stream",
     "text": [
      "[0.71959459 0.75       0.7027027  0.73986486 0.76610169]\n",
      "0.7356527714154832\n"
     ]
    }
   ],
   "source": [
    "#Cross val scores\n",
    "scores = cross_val_score(DecisionTreeClassifier(random_state=0),x_train,y_train,cv=folds)\n",
    "print(scores)\n",
    "print(scores.mean())"
   ]
  },
  {
   "cell_type": "markdown",
   "metadata": {},
   "source": [
    "#### Evaluation Metrics Decision Tree"
   ]
  },
  {
   "cell_type": "code",
   "execution_count": 30,
   "metadata": {},
   "outputs": [
    {
     "name": "stdout",
     "output_type": "stream",
     "text": [
      "[0.7732283464566929, 0.576530612244898, 0.6494252873563219, 0.6108108108108108]\n"
     ]
    }
   ],
   "source": [
    "model = DecisionTreeClassifier(random_state=0).fit(x_train,y_train)\n",
    "y_pred = model.predict(x_test)\n",
    "accuracy = metrics.accuracy_score(y_test,y_pred)\n",
    "precision = metrics.precision_score(y_test,y_pred)\n",
    "recall = metrics.recall_score(y_test,y_pred)\n",
    "F1_score = metrics.f1_score(y_test,y_pred)\n",
    "print([accuracy, precision, recall, F1_score])"
   ]
  },
  {
   "cell_type": "markdown",
   "metadata": {},
   "source": [
    "### Random Forrest"
   ]
  },
  {
   "cell_type": "code",
   "execution_count": 31,
   "metadata": {},
   "outputs": [],
   "source": [
    "# Party Classification (Random Forrest Tree)\n",
    "scaled_demograph_train = scaler.fit_transform(demograph_train[['2014 Population',\n",
    " 'Percent Under 18 Years',\n",
    " 'Percent 65 and Older',\n",
    " 'Percent Female',\n",
    " 'Percent White',\n",
    " 'Percent Black or African American',\n",
    " 'Percent American Indian and Alaska Native',\n",
    " 'Percent Asian',\n",
    " 'Percent Native Hawaiian and Other Pacific Islander',\n",
    " 'Percent Two or More Races',\n",
    " 'Percent Hispanic or Latino',\n",
    " 'Percent White, not Hispanic or Latino',\n",
    " 'Veterans',\n",
    " 'Percent Foreign Born',\n",
    " 'Percent High School or Higher',\n",
    " \"Percent Bachelor's Degree or Higher\"]])"
   ]
  },
  {
   "cell_type": "code",
   "execution_count": 32,
   "metadata": {},
   "outputs": [],
   "source": [
    "x_train,x_test,y_train,y_test = train_test_split(scaled_demograph_train,target_county,test_size = 0.30,random_state = 0,shuffle=True)"
   ]
  },
  {
   "cell_type": "code",
   "execution_count": 33,
   "metadata": {},
   "outputs": [
    {
     "name": "stdout",
     "output_type": "stream",
     "text": [
      "[0.81418919 0.78040541 0.79054054 0.80405405 0.79661017]\n",
      "0.7971598717361429\n"
     ]
    }
   ],
   "source": [
    "#Cross val scores\n",
    "scores = cross_val_score(RandomForestClassifier(criterion='gini',random_state=0),x_train,y_train,cv=folds)\n",
    "print(scores)\n",
    "print(scores.mean())"
   ]
  },
  {
   "cell_type": "markdown",
   "metadata": {},
   "source": [
    "#### Evaluation Metrics Random Forrest"
   ]
  },
  {
   "cell_type": "code",
   "execution_count": 34,
   "metadata": {},
   "outputs": [
    {
     "name": "stdout",
     "output_type": "stream",
     "text": [
      "[0.8204724409448819, 0.7884615384615384, 0.47126436781609193, 0.5899280575539568]\n"
     ]
    }
   ],
   "source": [
    "model = RandomForestClassifier(criterion='gini',random_state=0).fit(x_train,y_train)\n",
    "y_pred = model.predict(x_test)\n",
    "accuracy = metrics.accuracy_score(y_test,y_pred)\n",
    "precision = metrics.precision_score(y_test,y_pred)\n",
    "recall = metrics.recall_score(y_test,y_pred)\n",
    "F1_score = metrics.f1_score(y_test,y_pred)\n",
    "print([accuracy, precision, recall, F1_score])"
   ]
  },
  {
   "cell_type": "markdown",
   "metadata": {},
   "source": [
    "### Naive Bayes"
   ]
  },
  {
   "cell_type": "code",
   "execution_count": 35,
   "metadata": {},
   "outputs": [],
   "source": [
    "# Party Classification (Naive Bayes)\n",
    "scaled_demograph_train = scaler.fit_transform(demograph_train[[\n",
    "        'Percent Under 18 Years',\n",
    "       'Percent 65 and Older', 'Percent Female', 'Percent White',\n",
    "       'Percent Black or African American','Veterans',\n",
    "       'Percent Two or More Races', 'Percent Hispanic or Latino',\n",
    "       'Percent White, not Hispanic or Latino', 'Veterans',\n",
    "       'Percent Foreign Born',\n",
    "       \"Percent Bachelor's Degree or Higher\"\n",
    "]])"
   ]
  },
  {
   "cell_type": "code",
   "execution_count": 36,
   "metadata": {},
   "outputs": [],
   "source": [
    "x_train,x_test,y_train,y_test = train_test_split(scaled_demograph_train,target_county,test_size = 0.30,random_state = 0)"
   ]
  },
  {
   "cell_type": "code",
   "execution_count": 37,
   "metadata": {},
   "outputs": [
    {
     "name": "stdout",
     "output_type": "stream",
     "text": [
      "[0.77364865 0.79054054 0.73648649 0.75337838 0.76271186]\n",
      "0.7633531836921668\n"
     ]
    }
   ],
   "source": [
    "#Cross val scores\n",
    "scores = cross_val_score(GaussianNB(),x_train,y_train,cv=folds)\n",
    "print(scores)\n",
    "print(scores.mean())"
   ]
  },
  {
   "cell_type": "markdown",
   "metadata": {},
   "source": [
    "#### Evaluation Metrics Naive Bayes"
   ]
  },
  {
   "cell_type": "code",
   "execution_count": 38,
   "metadata": {},
   "outputs": [
    {
     "name": "stdout",
     "output_type": "stream",
     "text": [
      "[0.8, 0.6715328467153284, 0.5287356321839081, 0.5916398713826366]\n"
     ]
    }
   ],
   "source": [
    "model = GaussianNB().fit(x_train,y_train)\n",
    "y_pred = model.predict(x_test)\n",
    "accuracy = metrics.accuracy_score(y_test,y_pred)\n",
    "precision = metrics.precision_score(y_test,y_pred)\n",
    "recall = metrics.recall_score(y_test,y_pred)\n",
    "F1_score = metrics.f1_score(y_test,y_pred)\n",
    "print([accuracy, precision, recall, F1_score])"
   ]
  },
  {
   "cell_type": "markdown",
   "metadata": {},
   "source": [
    "## Ques 8: CLUSTERING"
   ]
  },
  {
   "cell_type": "markdown",
   "metadata": {},
   "source": [
    "### K-Means"
   ]
  },
  {
   "cell_type": "code",
   "execution_count": 63,
   "metadata": {},
   "outputs": [],
   "source": [
    "scaled_demograph_train = scaler.fit_transform(demograph_train[['2014 Population',\n",
    " 'Percent Under 5 Years',\n",
    " 'Percent Female',\n",
    " 'Percent White',\n",
    " 'Percent Black or African American',\n",
    " 'Percent American Indian and Alaska Native',\n",
    " 'Percent Asian',\n",
    " 'Percent Native Hawaiian and Other Pacific Islander',\n",
    " 'Percent Two or More Races', 'Percent Hispanic or Latino'                                                        \n",
    "]])"
   ]
  },
  {
   "cell_type": "code",
   "execution_count": 64,
   "metadata": {},
   "outputs": [],
   "source": [
    "clustering = KMeans(n_clusters=2,init='random',random_state=0).fit(scaled_demograph_train)\n",
    "clusters = clustering.labels_"
   ]
  },
  {
   "cell_type": "code",
   "execution_count": 78,
   "metadata": {},
   "outputs": [],
   "source": [
    "# Labeling counties using cluster labels\n",
    "data_train['Cluster Labels'] = clusters"
   ]
  },
  {
   "cell_type": "markdown",
   "metadata": {},
   "source": [
    "### Supervised evaluation metrics for K-Means"
   ]
  },
  {
   "cell_type": "code",
   "execution_count": 66,
   "metadata": {},
   "outputs": [
    {
     "name": "stdout",
     "output_type": "stream",
     "text": [
      "[0.7218543046357616, 0.4810924369747899, 0.4017543859649123, 0.43785850860420655]\n"
     ]
    }
   ],
   "source": [
    "accuracy = metrics.accuracy_score(data_train['Party'],clusters)\n",
    "precision = metrics.precision_score(data_train['Party'],clusters)\n",
    "recall = metrics.recall_score(data_train['Party'],clusters)\n",
    "F1_score = metrics.f1_score(data_train['Party'],clusters)\n",
    "print([accuracy, precision, recall, F1_score])"
   ]
  },
  {
   "cell_type": "markdown",
   "metadata": {},
   "source": [
    "### Unsupervised evaluation metrics for K-means"
   ]
  },
  {
   "cell_type": "code",
   "execution_count": 86,
   "metadata": {},
   "outputs": [
    {
     "name": "stdout",
     "output_type": "stream",
     "text": [
      "Adj Rand Index \t\t Silhouette Coeff\n",
      "[0.14159850782471162, 0.26301638503918917]\n"
     ]
    }
   ],
   "source": [
    "adjusted_rand_index = metrics.adjusted_rand_score(data_train['Party'],clusters)\n",
    "silhouette_coefficient = metrics.silhouette_score(data_train['Party'].values.reshape(-1,1),clusters)\n",
    "print('Adj Rand Index \\t\\t Silhouette Coeff')\n",
    "print([adjusted_rand_index, silhouette_coefficient])"
   ]
  },
  {
   "cell_type": "markdown",
   "metadata": {},
   "source": [
    "### Ward's Linkage"
   ]
  },
  {
   "cell_type": "code",
   "execution_count": 44,
   "metadata": {},
   "outputs": [],
   "source": [
    "scaled_demograph_train = scaler.fit_transform(demograph_train[['2014 Population',\n",
    " 'Percent Under 18 Years',\n",
    " 'Percent 65 and Older',\n",
    " 'Percent Female',\n",
    " 'Percent White',\n",
    " 'Percent Black or African American',\n",
    " 'Percent American Indian and Alaska Native',\n",
    " 'Percent Asian',\n",
    " 'Percent Native Hawaiian and Other Pacific Islander',\n",
    " 'Percent Two or More Races',\n",
    " 'Percent Hispanic or Latino',\n",
    " 'Percent White, not Hispanic or Latino',\n",
    " 'Veterans',\n",
    " 'Percent Foreign Born',\n",
    " 'Percent High School or Higher',\n",
    " \"Percent Bachelor's Degree or Higher\",\n",
    " 'Median Household Income','Percent Housing Units in Multi-Unit Structures']])"
   ]
  },
  {
   "cell_type": "code",
   "execution_count": 45,
   "metadata": {},
   "outputs": [],
   "source": [
    "clustering = AgglomerativeClustering(n_clusters=2,linkage='ward').fit(scaled_demograph_train)\n",
    "clusters = clustering.labels_"
   ]
  },
  {
   "cell_type": "markdown",
   "metadata": {},
   "source": [
    "### Supervised evaluation metrics for Ward's Linkage"
   ]
  },
  {
   "cell_type": "code",
   "execution_count": 46,
   "metadata": {},
   "outputs": [
    {
     "name": "stdout",
     "output_type": "stream",
     "text": [
      "[0.7081362346263008, 0.44547563805104406, 0.3368421052631579, 0.3836163836163836]\n"
     ]
    }
   ],
   "source": [
    "accuracy = metrics.accuracy_score(data_train['Party'],clusters)\n",
    "precision = metrics.precision_score(data_train['Party'],clusters)\n",
    "recall = metrics.recall_score(data_train['Party'],clusters)\n",
    "F1_score = metrics.f1_score(data_train['Party'],clusters)\n",
    "print([accuracy, precision, recall, F1_score])"
   ]
  },
  {
   "cell_type": "markdown",
   "metadata": {},
   "source": [
    "### Unsupervised evaluation metrics for Ward's Linkage"
   ]
  },
  {
   "cell_type": "code",
   "execution_count": 85,
   "metadata": {},
   "outputs": [
    {
     "name": "stdout",
     "output_type": "stream",
     "text": [
      "Adj Rand Index \t\t Silhouette Coeff\n",
      "[0.14159850782471162, 0.26301638503918917]\n"
     ]
    }
   ],
   "source": [
    "adjusted_rand_index = metrics.adjusted_rand_score(data_train['Party'],clusters)\n",
    "silhouette_coefficient = metrics.silhouette_score(data_train['Party'].values.reshape(-1,1),clusters)\n",
    "print('Adj Rand Index \\t\\t Silhouette Coeff')\n",
    "print([adjusted_rand_index, silhouette_coefficient])"
   ]
  },
  {
   "cell_type": "markdown",
   "metadata": {},
   "source": [
    "## Ques 9: Clusted Counties Map"
   ]
  },
  {
   "cell_type": "code",
   "execution_count": 67,
   "metadata": {},
   "outputs": [],
   "source": [
    "import plotly\n",
    "import plotly.plotly as py\n",
    "import plotly.figure_factory as ff\n",
    "plotly.tools.set_credentials_file(username='adarshjv20', api_key='VhR37dcVwvfCYHbv3qO0')"
   ]
  },
  {
   "cell_type": "code",
   "execution_count": 70,
   "metadata": {},
   "outputs": [],
   "source": [
    "fips_data = pd.read_excel('Fips.xlsx')\n",
    "cols = fips_data.iloc[0,:]\n",
    "cols[1] = 'County'\n",
    "fips_data.columns = cols\n",
    "fips_data = fips_data.drop(0)"
   ]
  },
  {
   "cell_type": "code",
   "execution_count": 71,
   "metadata": {},
   "outputs": [],
   "source": [
    "State_list = {\n",
    "    'Alabama': 'AL',\n",
    "    'Alaska': 'AK',\n",
    "    'Arizona': 'AZ',\n",
    "    'Arkansas': 'AR',\n",
    "    'California': 'CA',\n",
    "    'Colorado': 'CO',\n",
    "    'Connecticut': 'CT',\n",
    "    'Delaware': 'DE',\n",
    "    'Florida': 'FL',\n",
    "    'Georgia': 'GA',\n",
    "    'Hawaii': 'HI',\n",
    "    'Idaho': 'ID',\n",
    "    'Illinois': 'IL',\n",
    "    'Indiana': 'IN',\n",
    "    'Iowa': 'IA',\n",
    "    'Kansas': 'KS',\n",
    "    'Kentucky': 'KY',\n",
    "    'Louisiana': 'LA',\n",
    "    'Maine': 'ME',\n",
    "    'Maryland': 'MD',\n",
    "    'Massachusetts': 'MA',\n",
    "    'Michigan': 'MI',\n",
    "    'Minnesota': 'MN',\n",
    "    'Mississippi': 'MS',\n",
    "    'Missouri': 'MO',\n",
    "    'Montana': 'MT',\n",
    "    'Nebraska': 'NE',\n",
    "    'Nevada': 'NV',\n",
    "    'New Hampshire': 'NH',\n",
    "    'New Jersey': 'NJ',\n",
    "    'New Mexico': 'NM',\n",
    "    'New York': 'NY',\n",
    "    'North Carolina': 'NC',\n",
    "    'North Dakota': 'ND',\n",
    "    'Ohio': 'OH',\n",
    "    'Oklahoma': 'OK',\n",
    "    'Oregon': 'OR',\n",
    "    'Pennsylvania': 'PA',\n",
    "    'Rhode Island': 'RI',\n",
    "    'South Carolina': 'SC',\n",
    "    'South Dakota': 'SD',\n",
    "    'Tennessee': 'TN',\n",
    "    'Texas': 'TX',\n",
    "    'Utah': 'UT',\n",
    "    'Vermont': 'VT',\n",
    "    'Virginia': 'VA',\n",
    "    'Washington': 'WA',\n",
    "    'West Virginia': 'WV',\n",
    "    'Wisconsin': 'WI',\n",
    "    'Wyoming': 'WY',\n",
    "}"
   ]
  },
  {
   "cell_type": "code",
   "execution_count": 72,
   "metadata": {},
   "outputs": [],
   "source": [
    "fips_data['FIPS'] = fips_data['FIPS State'] + fips_data['FIPS County']\n",
    "fips_data['State'] = fips_data['State'].map(State_list)"
   ]
  },
  {
   "cell_type": "code",
   "execution_count": 79,
   "metadata": {},
   "outputs": [
    {
     "data": {
      "text/html": [
       "<div>\n",
       "<style scoped>\n",
       "    .dataframe tbody tr th:only-of-type {\n",
       "        vertical-align: middle;\n",
       "    }\n",
       "\n",
       "    .dataframe tbody tr th {\n",
       "        vertical-align: top;\n",
       "    }\n",
       "\n",
       "    .dataframe thead th {\n",
       "        text-align: right;\n",
       "    }\n",
       "</style>\n",
       "<table border=\"1\" class=\"dataframe\">\n",
       "  <thead>\n",
       "    <tr style=\"text-align: right;\">\n",
       "      <th></th>\n",
       "      <th>State</th>\n",
       "      <th>County</th>\n",
       "      <th>FIPS State</th>\n",
       "      <th>FIPS County</th>\n",
       "      <th>FIPS</th>\n",
       "    </tr>\n",
       "  </thead>\n",
       "  <tbody>\n",
       "    <tr>\n",
       "      <th>1</th>\n",
       "      <td>AL</td>\n",
       "      <td>Autauga</td>\n",
       "      <td>01</td>\n",
       "      <td>001</td>\n",
       "      <td>01001</td>\n",
       "    </tr>\n",
       "    <tr>\n",
       "      <th>2</th>\n",
       "      <td>AL</td>\n",
       "      <td>Baldwin</td>\n",
       "      <td>01</td>\n",
       "      <td>003</td>\n",
       "      <td>01003</td>\n",
       "    </tr>\n",
       "    <tr>\n",
       "      <th>3</th>\n",
       "      <td>AL</td>\n",
       "      <td>Barbour</td>\n",
       "      <td>01</td>\n",
       "      <td>005</td>\n",
       "      <td>01005</td>\n",
       "    </tr>\n",
       "    <tr>\n",
       "      <th>4</th>\n",
       "      <td>AL</td>\n",
       "      <td>Bibb</td>\n",
       "      <td>01</td>\n",
       "      <td>007</td>\n",
       "      <td>01007</td>\n",
       "    </tr>\n",
       "    <tr>\n",
       "      <th>5</th>\n",
       "      <td>AL</td>\n",
       "      <td>Blount</td>\n",
       "      <td>01</td>\n",
       "      <td>009</td>\n",
       "      <td>01009</td>\n",
       "    </tr>\n",
       "  </tbody>\n",
       "</table>\n",
       "</div>"
      ],
      "text/plain": [
       "0 State   County FIPS State FIPS County   FIPS\n",
       "1    AL  Autauga         01         001  01001\n",
       "2    AL  Baldwin         01         003  01003\n",
       "3    AL  Barbour         01         005  01005\n",
       "4    AL     Bibb         01         007  01007\n",
       "5    AL   Blount         01         009  01009"
      ]
     },
     "execution_count": 79,
     "metadata": {},
     "output_type": "execute_result"
    }
   ],
   "source": [
    "fips_data.head()"
   ]
  },
  {
   "cell_type": "code",
   "execution_count": 81,
   "metadata": {},
   "outputs": [],
   "source": [
    "final = pd.merge(data_train,fips_data,on=['State','County'])"
   ]
  },
  {
   "cell_type": "code",
   "execution_count": 83,
   "metadata": {},
   "outputs": [
    {
     "name": "stdout",
     "output_type": "stream",
     "text": [
      "The draw time for this plot will be slow for clients without much RAM.\n"
     ]
    },
    {
     "data": {
      "text/html": [
       "<iframe id=\"igraph\" scrolling=\"no\" style=\"border:none;\" seamless=\"seamless\" src=\"https://plot.ly/~adarshjv20/5.embed\" height=\"450px\" width=\"900px\"></iframe>"
      ],
      "text/plain": [
       "<plotly.tools.PlotlyDisplay object>"
      ]
     },
     "execution_count": 83,
     "metadata": {},
     "output_type": "execute_result"
    }
   ],
   "source": [
    "# Plot Counties\n",
    "fips = final['FIPS'].tolist()\n",
    "values = final['Cluster Labels'].tolist()\n",
    "colorscale = [\"#ffa500\",\"#0b4083\"]\n",
    "fig = ff.create_choropleth(fips=fips, values=values, colorscale=colorscale,legend_title='County',title='Clustered Counties')\n",
    "py.iplot(fig, filename='choropleth of some cali counties - full usa scope')\n"
   ]
  },
  {
   "cell_type": "code",
   "execution_count": null,
   "metadata": {},
   "outputs": [],
   "source": []
  }
 ],
 "metadata": {
  "kernelspec": {
   "display_name": "Python 3",
   "language": "python",
   "name": "python3"
  },
  "language_info": {
   "codemirror_mode": {
    "name": "ipython",
    "version": 3
   },
   "file_extension": ".py",
   "mimetype": "text/x-python",
   "name": "python",
   "nbconvert_exporter": "python",
   "pygments_lexer": "ipython3",
   "version": "3.6.5"
  }
 },
 "nbformat": 4,
 "nbformat_minor": 2
}
